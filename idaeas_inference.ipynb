{
  "nbformat": 4,
  "nbformat_minor": 0,
  "metadata": {
    "colab": {
      "name": "idaeas_inference.ipynb",
      "version": "0.3.2",
      "provenance": [],
      "include_colab_link": true
    },
    "kernelspec": {
      "name": "python3",
      "display_name": "Python 3"
    }
  },
  "cells": [
    {
      "cell_type": "markdown",
      "metadata": {
        "id": "view-in-github",
        "colab_type": "text"
      },
      "source": [
        "<a href=\"https://colab.research.google.com/github/3arbie/appli/blob/master/idaeas_inference.ipynb\" target=\"_parent\"><img src=\"https://colab.research.google.com/assets/colab-badge.svg\" alt=\"Open In Colab\"/></a>"
      ]
    },
    {
      "cell_type": "code",
      "metadata": {
        "id": "y04g4d1GQi5F",
        "colab_type": "code",
        "colab": {}
      },
      "source": [
        "!pip install bert"
      ],
      "execution_count": 0,
      "outputs": []
    },
    {
      "cell_type": "code",
      "metadata": {
        "id": "Q_KiuDNgQrEt",
        "colab_type": "code",
        "colab": {}
      },
      "source": [
        "import bert "
      ],
      "execution_count": 0,
      "outputs": []
    },
    {
      "cell_type": "code",
      "metadata": {
        "id": "4BOFYLEejzmP",
        "colab_type": "code",
        "colab": {
          "base_uri": "https://localhost:8080/",
          "height": 258
        },
        "outputId": "7538e00b-6bb9-4aef-ddc1-2c79ea179190"
      },
      "source": [
        "!pip install pipenv"
      ],
      "execution_count": 1,
      "outputs": [
        {
          "output_type": "stream",
          "text": [
            "Collecting pipenv\n",
            "\u001b[?25l  Downloading https://files.pythonhosted.org/packages/13/b4/3ffa55f77161cff9a5220f162670f7c5eb00df52e00939e203f601b0f579/pipenv-2018.11.26-py3-none-any.whl (5.2MB)\n",
            "\u001b[K     |████████████████████████████████| 5.2MB 2.8MB/s \n",
            "\u001b[?25hRequirement already satisfied: pip>=9.0.1 in /usr/local/lib/python3.6/dist-packages (from pipenv) (19.1.1)\n",
            "Requirement already satisfied: setuptools>=36.2.1 in /usr/local/lib/python3.6/dist-packages (from pipenv) (41.0.1)\n",
            "Requirement already satisfied: certifi in /usr/local/lib/python3.6/dist-packages (from pipenv) (2019.6.16)\n",
            "Collecting virtualenv-clone>=0.2.5 (from pipenv)\n",
            "  Downloading https://files.pythonhosted.org/packages/ba/f8/50c2b7dbc99e05fce5e5b9d9a31f37c988c99acd4e8dedd720b7b8d4011d/virtualenv_clone-0.5.3-py2.py3-none-any.whl\n",
            "Collecting virtualenv (from pipenv)\n",
            "\u001b[?25l  Downloading https://files.pythonhosted.org/packages/c4/9a/a3f62ac5122a65dec34ad4b5ed8d802633dae4bc06a0fc62e55fe3e96fe1/virtualenv-16.6.1-py2.py3-none-any.whl (2.0MB)\n",
            "\u001b[K     |████████████████████████████████| 2.0MB 36.1MB/s \n",
            "\u001b[?25hInstalling collected packages: virtualenv-clone, virtualenv, pipenv\n",
            "Successfully installed pipenv-2018.11.26 virtualenv-16.6.1 virtualenv-clone-0.5.3\n"
          ],
          "name": "stdout"
        }
      ]
    },
    {
      "cell_type": "markdown",
      "metadata": {
        "id": "6SEmaux3QtgO",
        "colab_type": "text"
      },
      "source": [
        "NLP part "
      ]
    },
    {
      "cell_type": "code",
      "metadata": {
        "id": "qK3Czu9kQz3F",
        "colab_type": "code",
        "colab": {}
      },
      "source": [
        ""
      ],
      "execution_count": 0,
      "outputs": []
    },
    {
      "cell_type": "markdown",
      "metadata": {
        "id": "Xi9-RuKr53xn",
        "colab_type": "text"
      },
      "source": [
        "geometric model estimate of GBM model\n"
      ]
    },
    {
      "cell_type": "code",
      "metadata": {
        "id": "nRGcSbWZkA6M",
        "colab_type": "code",
        "colab": {
          "base_uri": "https://localhost:8080/",
          "height": 204
        },
        "outputId": "b60e3edf-4732-464a-f2c4-bcd15bcc1021"
      },
      "source": [
        "!pip install pymc3 "
      ],
      "execution_count": 2,
      "outputs": [
        {
          "output_type": "stream",
          "text": [
            "Requirement already satisfied: pymc3 in /usr/local/lib/python3.6/dist-packages (3.7)\n",
            "Requirement already satisfied: tqdm>=4.8.4 in /usr/local/lib/python3.6/dist-packages (from pymc3) (4.28.1)\n",
            "Requirement already satisfied: h5py>=2.7.0 in /usr/local/lib/python3.6/dist-packages (from pymc3) (2.8.0)\n",
            "Requirement already satisfied: numpy>=1.13.0 in /usr/local/lib/python3.6/dist-packages (from pymc3) (1.16.4)\n",
            "Requirement already satisfied: pandas>=0.18.0 in /usr/local/lib/python3.6/dist-packages (from pymc3) (0.24.2)\n",
            "Requirement already satisfied: scipy>=0.18.1 in /usr/local/lib/python3.6/dist-packages (from pymc3) (1.3.0)\n",
            "Requirement already satisfied: patsy>=0.4.0 in /usr/local/lib/python3.6/dist-packages (from pymc3) (0.5.1)\n",
            "Requirement already satisfied: theano>=1.0.4 in /usr/local/lib/python3.6/dist-packages (from pymc3) (1.0.4)\n",
            "Requirement already satisfied: six in /usr/local/lib/python3.6/dist-packages (from h5py>=2.7.0->pymc3) (1.12.0)\n",
            "Requirement already satisfied: python-dateutil>=2.5.0 in /usr/local/lib/python3.6/dist-packages (from pandas>=0.18.0->pymc3) (2.5.3)\n",
            "Requirement already satisfied: pytz>=2011k in /usr/local/lib/python3.6/dist-packages (from pandas>=0.18.0->pymc3) (2018.9)\n"
          ],
          "name": "stdout"
        }
      ]
    },
    {
      "cell_type": "code",
      "metadata": {
        "id": "6kDdJNiI7NGc",
        "colab_type": "code",
        "colab": {
          "base_uri": "https://localhost:8080/",
          "height": 428
        },
        "outputId": "f7a91c88-0b9d-48fa-b9eb-a1dd1f9a80ec"
      },
      "source": [
        "!pip install arviz"
      ],
      "execution_count": 4,
      "outputs": [
        {
          "output_type": "stream",
          "text": [
            "Collecting arviz\n",
            "\u001b[?25l  Downloading https://files.pythonhosted.org/packages/78/a9/32de4a85f023a9b62b0bcc32606c371893ac3fb5c96777d8cf646b4e6b67/arviz-0.4.1-py3-none-any.whl (1.3MB)\n",
            "\u001b[K     |████████████████████████████████| 1.3MB 2.8MB/s \n",
            "\u001b[?25hCollecting netcdf4 (from arviz)\n",
            "\u001b[?25l  Downloading https://files.pythonhosted.org/packages/48/94/eacbf790ceb237bee5db9c54e7c225ff0898d6dd496166a21d7c57254eb5/netCDF4-1.5.1.2-cp36-cp36m-manylinux1_x86_64.whl (4.1MB)\n",
            "\u001b[K     |████████████████████████████████| 4.1MB 37.3MB/s \n",
            "\u001b[?25hRequirement already satisfied: pandas in /usr/local/lib/python3.6/dist-packages (from arviz) (0.24.2)\n",
            "Requirement already satisfied: numpy in /usr/local/lib/python3.6/dist-packages (from arviz) (1.16.4)\n",
            "Requirement already satisfied: matplotlib>=3.0 in /usr/local/lib/python3.6/dist-packages (from arviz) (3.0.3)\n",
            "Requirement already satisfied: scipy in /usr/local/lib/python3.6/dist-packages (from arviz) (1.3.0)\n",
            "Requirement already satisfied: xarray in /usr/local/lib/python3.6/dist-packages (from arviz) (0.11.3)\n",
            "Collecting cftime (from netcdf4->arviz)\n",
            "\u001b[?25l  Downloading https://files.pythonhosted.org/packages/70/64/8ceadda42af3c1b27ee77005807e38c6d77baef28a8f9216b60577fddd71/cftime-1.0.3.4-cp36-cp36m-manylinux1_x86_64.whl (305kB)\n",
            "\u001b[K     |████████████████████████████████| 307kB 41.3MB/s \n",
            "\u001b[?25hRequirement already satisfied: pytz>=2011k in /usr/local/lib/python3.6/dist-packages (from pandas->arviz) (2018.9)\n",
            "Requirement already satisfied: python-dateutil>=2.5.0 in /usr/local/lib/python3.6/dist-packages (from pandas->arviz) (2.5.3)\n",
            "Requirement already satisfied: kiwisolver>=1.0.1 in /usr/local/lib/python3.6/dist-packages (from matplotlib>=3.0->arviz) (1.1.0)\n",
            "Requirement already satisfied: pyparsing!=2.0.4,!=2.1.2,!=2.1.6,>=2.0.1 in /usr/local/lib/python3.6/dist-packages (from matplotlib>=3.0->arviz) (2.4.0)\n",
            "Requirement already satisfied: cycler>=0.10 in /usr/local/lib/python3.6/dist-packages (from matplotlib>=3.0->arviz) (0.10.0)\n",
            "Requirement already satisfied: six>=1.5 in /usr/local/lib/python3.6/dist-packages (from python-dateutil>=2.5.0->pandas->arviz) (1.12.0)\n",
            "Requirement already satisfied: setuptools in /usr/local/lib/python3.6/dist-packages (from kiwisolver>=1.0.1->matplotlib>=3.0->arviz) (41.0.1)\n",
            "Installing collected packages: cftime, netcdf4, arviz\n",
            "Successfully installed arviz-0.4.1 cftime-1.0.3.4 netcdf4-1.5.1.2\n"
          ],
          "name": "stdout"
        }
      ]
    },
    {
      "cell_type": "code",
      "metadata": {
        "id": "sdqg9_k879h5",
        "colab_type": "code",
        "colab": {}
      },
      "source": [
        ""
      ],
      "execution_count": 0,
      "outputs": []
    },
    {
      "cell_type": "code",
      "metadata": {
        "id": "gds4ZF056HIb",
        "colab_type": "code",
        "colab": {}
      },
      "source": [
        "import warnings\n",
        "\n",
        "import arviz as az\n",
        "import numpy as np\n",
        "import pandas as pd\n",
        "import pymc3 as pm\n",
        "import seaborn as sns\n",
        "from numpy import ndarray"
      ],
      "execution_count": 0,
      "outputs": []
    },
    {
      "cell_type": "code",
      "metadata": {
        "id": "3ws1tv2W8A5e",
        "colab_type": "code",
        "colab": {}
      },
      "source": [
        "%matplotlib inline\n",
        "sns.set()\n",
        "warnings.filterwarnings('ignore')"
      ],
      "execution_count": 0,
      "outputs": []
    },
    {
      "cell_type": "code",
      "metadata": {
        "id": "QSIbE5Aw8VKH",
        "colab_type": "code",
        "colab": {
          "base_uri": "https://localhost:8080/",
          "height": 291
        },
        "outputId": "ee68f15b-13bd-4b2b-fe29-180648040783"
      },
      "source": [
        "np.random.seed(42)\n",
        "#just example of parameters that we will take\n",
        "mu = 0.0\n",
        "sigma = 0.15\n",
        "I=1000\n",
        "def gbm(S0, mu, sigma, maturity,I):\n",
        "  dt=maturity/I\n",
        "  S=S0*np.exp((mu - .5*sigma**2)*dt + (sigma)*np.sqrt(dt)*np.random.standard_normal(I))\n",
        "  return S.mean()\n",
        "\n",
        "example_data = pd.DataFrame({\n",
        "    'day': np.arange(365),\n",
        "    's': gbm(100, mu, sigma, 365, I=1000)})\n",
        "\n",
        "_ = sns.lineplot(x='day', y='s', data=example_data)\n",
        "\n",
        "returns_geo_full = (\n",
        "    np.log(example_data.s)\n",
        "    .diff(1)\n",
        "    .dropna())\n",
        "\n",
        "_ = sns.distplot(returns_geo_full)"
      ],
      "execution_count": 15,
      "outputs": [
        {
          "output_type": "display_data",
          "data": {
            "image/png": "[encoded data removed]",
            "text/plain": [
              "<Figure size 432x288 with 1 Axes>"
            ]
          },
          "metadata": {
            "tags": []
          }
        }
      ]
    },
    {
      "cell_type": "code",
      "metadata": {
        "id": "1E7KbQIT_rNH",
        "colab_type": "code",
        "colab": {
          "base_uri": "https://localhost:8080/",
          "height": 102
        },
        "outputId": "1b75a0f9-8141-4bbe-9d22-78518d7bcaf2"
      },
      "source": [
        "!pip install requests"
      ],
      "execution_count": 30,
      "outputs": [
        {
          "output_type": "stream",
          "text": [
            "Requirement already satisfied: requests in /usr/local/lib/python3.6/dist-packages (2.21.0)\n",
            "Requirement already satisfied: certifi>=2017.4.17 in /usr/local/lib/python3.6/dist-packages (from requests) (2019.6.16)\n",
            "Requirement already satisfied: chardet<3.1.0,>=3.0.2 in /usr/local/lib/python3.6/dist-packages (from requests) (3.0.4)\n",
            "Requirement already satisfied: urllib3<1.25,>=1.21.1 in /usr/local/lib/python3.6/dist-packages (from requests) (1.24.3)\n",
            "Requirement already satisfied: idna<2.9,>=2.5 in /usr/local/lib/python3.6/dist-packages (from requests) (2.8)\n"
          ],
          "name": "stdout"
        }
      ]
    },
    {
      "cell_type": "code",
      "metadata": {
        "id": "-x17zINCXsw2",
        "colab_type": "code",
        "colab": {
          "base_uri": "https://localhost:8080/",
          "height": 238
        },
        "outputId": "ba2574e9-6402-4c25-dc5d-96208fd5fbd3"
      },
      "source": [
        "!pip install pandas_datareader "
      ],
      "execution_count": 20,
      "outputs": [
        {
          "output_type": "stream",
          "text": [
            "Requirement already satisfied: pandas_datareader in /usr/local/lib/python3.6/dist-packages (0.7.0)\n",
            "Requirement already satisfied: wrapt in /usr/local/lib/python3.6/dist-packages (from pandas_datareader) (1.11.2)\n",
            "Requirement already satisfied: requests>=2.3.0 in /usr/local/lib/python3.6/dist-packages (from pandas_datareader) (2.21.0)\n",
            "Requirement already satisfied: pandas>=0.19.2 in /usr/local/lib/python3.6/dist-packages (from pandas_datareader) (0.24.2)\n",
            "Requirement already satisfied: lxml in /usr/local/lib/python3.6/dist-packages (from pandas_datareader) (4.2.6)\n",
            "Requirement already satisfied: idna<2.9,>=2.5 in /usr/local/lib/python3.6/dist-packages (from requests>=2.3.0->pandas_datareader) (2.8)\n",
            "Requirement already satisfied: certifi>=2017.4.17 in /usr/local/lib/python3.6/dist-packages (from requests>=2.3.0->pandas_datareader) (2019.6.16)\n",
            "Requirement already satisfied: chardet<3.1.0,>=3.0.2 in /usr/local/lib/python3.6/dist-packages (from requests>=2.3.0->pandas_datareader) (3.0.4)\n",
            "Requirement already satisfied: urllib3<1.25,>=1.21.1 in /usr/local/lib/python3.6/dist-packages (from requests>=2.3.0->pandas_datareader) (1.24.3)\n",
            "Requirement already satisfied: pytz>=2011k in /usr/local/lib/python3.6/dist-packages (from pandas>=0.19.2->pandas_datareader) (2018.9)\n",
            "Requirement already satisfied: numpy>=1.12.0 in /usr/local/lib/python3.6/dist-packages (from pandas>=0.19.2->pandas_datareader) (1.16.4)\n",
            "Requirement already satisfied: python-dateutil>=2.5.0 in /usr/local/lib/python3.6/dist-packages (from pandas>=0.19.2->pandas_datareader) (2.5.3)\n",
            "Requirement already satisfied: six>=1.5 in /usr/local/lib/python3.6/dist-packages (from python-dateutil>=2.5.0->pandas>=0.19.2->pandas_datareader) (1.12.0)\n"
          ],
          "name": "stdout"
        }
      ]
    },
    {
      "cell_type": "code",
      "metadata": {
        "id": "RR9H_v0EdDyY",
        "colab_type": "code",
        "colab": {}
      },
      "source": [
        "from pandas_datareader import  data\n",
        "d=data.DataReader('MSFT', 'yahoo')\n",
        "d['Return']=np.log(d['Close']/d['Close'].shift(1))\n",
        "d_ret=d['Return']\n",
        "std=d['Return'].std()"
      ],
      "execution_count": 0,
      "outputs": []
    },
    {
      "cell_type": "code",
      "metadata": {
        "id": "_ZU_nQeci6rD",
        "colab_type": "code",
        "colab": {}
      },
      "source": [
        "import tensorflow_probability \n",
        "from tensorflow_probability import  edward2 as ed2\n",
        "N=d.shape[0]\n",
        "prior_vol=ed2.HalfNormal(scale=tf.constant(std, shape=[N]))\n",
        "prior_mean=ed2.Normal(loc=tf.zeros(N), scale=tf.constant(0.015, shape=[N]))\n",
        "likelihood=ed2.Normal(loc=prior_mean, scale=prior_vol)"
      ],
      "execution_count": 0,
      "outputs": []
    },
    {
      "cell_type": "code",
      "metadata": {
        "id": "2PpAbUlPhGXF",
        "colab_type": "code",
        "colab": {}
      },
      "source": [
        "import tensorflow as tf\n",
        "N=d.shape[0]\n",
        "X=tf.placeholder(tf.float32, shape=(d.shape[0],))"
      ],
      "execution_count": 0,
      "outputs": []
    },
    {
      "cell_type": "code",
      "metadata": {
        "id": "Ayq0RSIs6bgJ",
        "colab_type": "code",
        "colab": {}
      },
      "source": [
        "def normal_jump(I_sim, T, S0, *args, **kargs):\n",
        "    dt=T/I_sim\n",
        "    mu=args[0]; sigma=args[1]; _lambda=args[2]; mu_Y=args[3]; sigma_Y=args[4]\n",
        "    M=np.zeros((I_sim, T))\n",
        "    for t in range(1, T):\n",
        "        jumppnbr = np.random.poisson(_lambda*dt, size=I_sim)\n",
        "        jump = np.random.normal(mu_Y*(jumppnbr - _lambda*dt), np.sqrt(jumppnbr)*sigma_Y) \n",
        "        M[:, t] = mu*dt + sigma*np.sqrt(dt)*np.random.standard_normal(I_sim) + jump\n",
        "    S=S0*np.exp(M).mean(axis=1)\n",
        "    return S"
      ],
      "execution_count": 0,
      "outputs": []
    },
    {
      "cell_type": "code",
      "metadata": {
        "id": "8qxy8X2TDuX4",
        "colab_type": "code",
        "colab": {
          "base_uri": "https://localhost:8080/",
          "height": 1000
        },
        "outputId": "f9266a4d-2321-4dde-ad68-1bcda53c5166"
      },
      "source": [
        "normal_jump(1000, 100, 110.00, 0, 0.15, 10, 0.03, 0.001)"
      ],
      "execution_count": 84,
      "outputs": [
        {
          "output_type": "execute_result",
          "data": {
            "text/plain": [
              "array([111.14910524, 111.00212544, 110.96282678, 110.27197611,\n",
              "       110.94257036, 110.57908262, 109.66725415, 109.79941491,\n",
              "       110.10571215, 110.44098976, 109.9947575 , 109.28473233,\n",
              "       108.52985176, 109.81792378, 109.45132302, 109.184756  ,\n",
              "       110.17748838, 110.53826932, 110.2126779 , 110.75704762,\n",
              "       110.0903345 , 109.09930862, 109.72332288, 109.55861998,\n",
              "       109.15568037, 109.94699498, 110.55704712, 109.86439249,\n",
              "       109.68432478, 110.05561302, 110.03031904, 109.46505564,\n",
              "       110.5867081 , 110.65637436, 110.36022428, 111.11793872,\n",
              "       110.72363973, 110.28544558, 109.0942495 , 109.89233416,\n",
              "       110.49681123, 109.7663149 , 110.24366756, 109.09012291,\n",
              "       110.07925068, 110.35590477, 109.0611914 , 110.32487196,\n",
              "       110.17978114, 110.46260971, 110.36982658, 110.49130956,\n",
              "       109.34090166, 111.07944354, 110.97943702, 111.02237275,\n",
              "       110.53007033, 110.57690851, 109.97478769, 109.47410487,\n",
              "       108.67336538, 109.81941928, 110.13873373, 110.37700874,\n",
              "       109.74946582, 109.61376733, 109.97756084, 111.02016913,\n",
              "       110.22927885, 109.99315968, 109.86186915, 110.06792407,\n",
              "       109.72538429, 110.20552459, 110.96254933, 109.7020239 ,\n",
              "       110.50450802, 110.47627639, 110.2242253 , 110.17659687,\n",
              "       109.00504454, 109.85797503, 110.08702133, 110.68283561,\n",
              "       110.55461742, 111.50035972, 109.50236732, 110.45693479,\n",
              "       109.57838126, 110.63457525, 110.34135903, 110.22044372,\n",
              "       110.05484043, 110.69882416, 110.26390116, 110.52725394,\n",
              "       109.22696889, 110.24955229, 110.34285863, 109.45282109,\n",
              "       109.49790312, 109.78409236, 110.56912405, 110.99762821,\n",
              "       110.5859395 , 109.31850476, 110.02824954, 110.39109693,\n",
              "       110.64607046, 110.22445632, 110.76168631, 109.91708381,\n",
              "       109.41208788, 109.09295034, 110.43162135, 111.19485954,\n",
              "       109.33452272, 110.69542556, 110.23443564, 109.77957001,\n",
              "       110.21030023, 109.73842478, 109.33092934, 109.87359743,\n",
              "       108.78222574, 110.52962787, 110.37462517, 109.22156441,\n",
              "       110.69262458, 109.6068779 , 110.12705392, 110.11870141,\n",
              "       109.41942581, 110.18986456, 110.59462652, 109.72267466,\n",
              "       110.1603451 , 109.34345671, 110.42205138, 109.99738904,\n",
              "       109.39505142, 110.20983328, 109.89211145, 109.66728452,\n",
              "       111.21211523, 110.70825114, 110.79237101, 109.78308755,\n",
              "       110.09871214, 110.66589442, 109.60138825, 108.70845367,\n",
              "       110.5371525 , 109.65483978, 110.34636151, 109.56515336,\n",
              "       110.78688836, 110.23661267, 110.95572406, 110.0537359 ,\n",
              "       110.82795796, 109.85055219, 108.84170731, 110.54069741,\n",
              "       110.71155334, 109.39499512, 110.33676039, 109.95427268,\n",
              "       111.18168739, 109.90579519, 110.78991399, 110.19673698,\n",
              "       110.31779867, 109.44854123, 108.60929175, 110.73252349,\n",
              "       109.03685393, 109.64422827, 110.45782392, 110.07644192,\n",
              "       110.57061119, 111.61736305, 110.75408394, 111.11892427,\n",
              "       110.59206665, 110.22034841, 109.97377412, 109.70288013,\n",
              "       109.65604708, 111.13995053, 110.7305606 , 110.4546822 ,\n",
              "       110.5074494 , 111.66796302, 109.5028791 , 110.43954504,\n",
              "       110.47500225, 110.51767006, 109.493157  , 110.80659552,\n",
              "       110.56518415, 109.56058071, 110.44740952, 109.38522141,\n",
              "       109.20534769, 110.43926566, 110.83245849, 110.15657862,\n",
              "       111.00119527, 110.13251279, 110.41454317, 110.09808955,\n",
              "       110.05452025, 109.24112487, 109.95611036, 109.9196211 ,\n",
              "       110.47117965, 110.32981991, 111.34607143, 109.24676823,\n",
              "       110.56318753, 110.53356907, 110.07160263, 110.12994252,\n",
              "       110.74126244, 110.02552312, 109.02978039, 111.09472197,\n",
              "       110.56171416, 110.60795538, 110.10797718, 110.40086032,\n",
              "       110.10232836, 110.10580128, 109.7024675 , 110.04933724,\n",
              "       109.5648366 , 110.83746339, 110.78346098, 110.36293641,\n",
              "       110.50766665, 110.00431235, 110.89440118, 110.95357195,\n",
              "       109.40434732, 110.40790114, 110.19598473, 109.78261827,\n",
              "       109.78142467, 109.86638596, 109.38255724, 109.85937315,\n",
              "       109.60272368, 110.44073891, 109.79755068, 111.00767472,\n",
              "       109.95144332, 109.87832235, 110.18828287, 110.15463605,\n",
              "       109.75753111, 110.95856166, 108.94716058, 110.85153398,\n",
              "       110.17754243, 109.84878048, 109.45884958, 110.5101574 ,\n",
              "       110.5761588 , 110.48445094, 109.92354905, 110.22609421,\n",
              "       110.56293809, 110.81492893, 112.16585441, 109.73936259,\n",
              "       110.94642635, 110.1701959 , 110.47922229, 109.99492442,\n",
              "       110.08615414, 110.08753954, 110.47529388, 109.7598382 ,\n",
              "       110.69932219, 109.57988098, 109.81753285, 110.89120322,\n",
              "       109.19345465, 108.88504845, 109.52086974, 110.08599554,\n",
              "       110.56764553, 109.99092721, 110.57175864, 109.45442789,\n",
              "       110.41933731, 109.80929935, 108.26128584, 109.8110067 ,\n",
              "       110.99949858, 109.59679553, 111.21486242, 109.25759715,\n",
              "       108.5724752 , 109.99059088, 109.68156883, 109.26759685,\n",
              "       110.33375447, 110.66784874, 109.45183695, 110.79533664,\n",
              "       110.39766983, 110.18458363, 111.01866509, 110.91963722,\n",
              "       109.56478714, 109.97634469, 109.95652777, 108.85878799,\n",
              "       110.88428611, 109.601824  , 110.02370975, 108.9358834 ,\n",
              "       108.83142157, 109.75052752, 110.40286836, 109.2126178 ,\n",
              "       110.24742476, 109.26617673, 110.14994229, 110.5012416 ,\n",
              "       111.29087228, 109.9947891 , 109.36985274, 111.36417404,\n",
              "       110.87789862, 110.89705533, 110.44163715, 110.52522372,\n",
              "       109.49077244, 111.27103584, 110.34753071, 110.49967198,\n",
              "       109.37936612, 110.78744467, 110.10311311, 109.90416088,\n",
              "       109.98897275, 110.21891686, 110.66517771, 111.00128156,\n",
              "       109.77292547, 110.66619658, 109.1759687 , 110.05849441,\n",
              "       110.50713841, 110.21055307, 110.33991638, 109.69630182,\n",
              "       110.81995928, 108.99360298, 110.61244159, 110.44153902,\n",
              "       110.49164714, 108.5270994 , 110.83907806, 109.93912879,\n",
              "       110.25860051, 110.70999155, 111.34661326, 110.88051488,\n",
              "       109.98362863, 111.21681945, 109.70527834, 109.7828792 ,\n",
              "       109.47196692, 112.04738844, 110.84203646, 110.02499024,\n",
              "       110.2384121 , 109.07763527, 109.45500958, 110.11947458,\n",
              "       110.18385623, 108.87890264, 110.36783823, 110.11363453,\n",
              "       110.47216533, 110.84353141, 110.11270211, 110.55674627,\n",
              "       110.425661  , 110.48855126, 110.15749544, 110.61675421,\n",
              "       110.83624225, 110.18700964, 110.55067989, 110.35848007,\n",
              "       110.82250885, 111.55001731, 109.27872956, 110.50470725,\n",
              "       109.34676942, 110.28707552, 110.62029901, 110.40594615,\n",
              "       110.82329319, 109.48532644, 110.88192107, 109.6867306 ,\n",
              "       108.47648483, 110.60662459, 109.94499326, 109.46634662,\n",
              "       110.53856973, 110.3138609 , 111.53187298, 109.34958119,\n",
              "       109.90047623, 109.92073716, 109.9350918 , 110.70862368,\n",
              "       110.72687074, 109.15510213, 110.31335849, 110.41596203,\n",
              "       110.89031514, 109.81875883, 109.98610626, 110.35292533,\n",
              "       109.48248172, 110.79151651, 111.22751014, 110.5143047 ,\n",
              "       109.75449889, 109.52904602, 110.93447186, 110.8694868 ,\n",
              "       109.69155908, 109.68299128, 109.52624941, 110.59684307,\n",
              "       109.45749258, 110.16521803, 110.00629373, 109.90423   ,\n",
              "       110.14883852, 109.56806606, 109.34677372, 109.59774394,\n",
              "       109.21565768, 110.35849705, 109.43014783, 111.1044117 ,\n",
              "       110.42783392, 110.67412846, 108.99011446, 109.5713398 ,\n",
              "       111.85574224, 109.14319925, 110.64535211, 110.83728112,\n",
              "       110.1222271 , 110.55967492, 110.48520492, 110.07977208,\n",
              "       109.4798057 , 110.59129018, 108.65128627, 109.88993095,\n",
              "       109.66560696, 108.98820906, 111.11984264, 110.61683975,\n",
              "       109.08331999, 110.4431939 , 109.93546236, 110.49215447,\n",
              "       109.92275354, 110.72866046, 109.8860582 , 110.19634544,\n",
              "       110.0931762 , 109.60989823, 110.62980061, 110.2222418 ,\n",
              "       109.78893136, 111.25639906, 110.72126971, 109.7213004 ,\n",
              "       108.87716972, 110.64289   , 111.13944431, 110.2249679 ,\n",
              "       109.76791133, 110.04364006, 110.04555507, 111.03291383,\n",
              "       110.29290466, 109.8105047 , 111.26072609, 110.91422254,\n",
              "       109.5596179 , 110.34258415, 109.46004035, 109.84536549,\n",
              "       110.29495093, 110.43235319, 109.95814975, 110.06852178,\n",
              "       109.87701107, 109.9863083 , 110.74562909, 109.38180175,\n",
              "       109.57337149, 110.80280922, 110.85991418, 110.82740693,\n",
              "       109.77680478, 110.18290045, 109.84983219, 109.78211669,\n",
              "       109.55977874, 110.45167501, 109.78188124, 110.65974775,\n",
              "       109.64821753, 110.1285756 , 109.6006448 , 109.21531423,\n",
              "       110.49171653, 109.40221011, 110.88722624, 110.40569878,\n",
              "       110.72481573, 110.81137432, 110.93345043, 109.67429632,\n",
              "       111.07237868, 111.33141783, 110.34524349, 109.94736096,\n",
              "       110.33169667, 110.1386671 , 109.93739326, 110.61779548,\n",
              "       112.63184307, 109.6509082 , 111.16943977, 111.46046232,\n",
              "       110.04496968, 110.93661417, 110.16454793, 108.94386995,\n",
              "       109.92216562, 109.21995489, 110.12537503, 109.36591514,\n",
              "       108.1700237 , 110.44125307, 110.38622443, 109.83023172,\n",
              "       110.13286784, 109.5216579 , 109.50694715, 109.63824579,\n",
              "       110.0054722 , 110.36565484, 109.43045278, 109.43241851,\n",
              "       109.66775074, 109.68920466, 111.59502976, 110.19496204,\n",
              "       110.5595174 , 111.96932252, 109.80422182, 110.03709406,\n",
              "       110.09438078, 110.34998464, 110.44183563, 111.26794288,\n",
              "       110.74144598, 109.67967396, 110.07065217, 109.76274046,\n",
              "       109.83644606, 110.33800654, 109.55485456, 109.30641402,\n",
              "       109.86294198, 109.04811404, 110.46456742, 109.6866702 ,\n",
              "       110.45359596, 109.94265441, 109.84252037, 110.18515465,\n",
              "       110.23594876, 110.52934716, 110.19840795, 111.41978418,\n",
              "       110.89208176, 109.98774592, 109.92378984, 109.66002809,\n",
              "       109.83519484, 110.3507034 , 109.93066688, 110.06625603,\n",
              "       109.25956593, 110.60170766, 110.89103586, 109.65697363,\n",
              "       110.06505337, 110.48430328, 110.80605166, 110.22292201,\n",
              "       110.74668884, 110.69646238, 109.95462626, 110.03943439,\n",
              "       109.65989687, 110.09749015, 109.18703248, 109.87878768,\n",
              "       109.14382714, 110.1934142 , 110.12967937, 109.93742163,\n",
              "       110.30685364, 110.24311949, 109.21639765, 110.23863851,\n",
              "       110.51323104, 110.53793246, 109.66515818, 110.72121984,\n",
              "       110.90206958, 109.87260311, 110.7590556 , 110.16964914,\n",
              "       111.36538914, 110.48272986, 109.64658616, 109.58999389,\n",
              "       111.28278216, 110.31807721, 109.53236978, 109.83951539,\n",
              "       110.77210845, 110.14136843, 109.3957629 , 109.61404417,\n",
              "       108.90054637, 108.83228548, 110.99366352, 110.86075692,\n",
              "       109.30764498, 110.22257772, 110.9148085 , 110.81490731,\n",
              "       109.5498006 , 109.90976484, 109.67029038, 109.32368548,\n",
              "       109.1259886 , 109.52347022, 111.27581321, 109.9804994 ,\n",
              "       110.47012373, 109.7902552 , 109.7561976 , 110.01716992,\n",
              "       110.07578566, 108.93326374, 109.83683191, 110.85285658,\n",
              "       110.56690769, 110.10046537, 110.02594325, 109.23438154,\n",
              "       110.61770201, 109.16489403, 110.68713862, 109.83974839,\n",
              "       111.31070153, 110.50736628, 110.02762466, 109.90155926,\n",
              "       110.22510075, 110.26594634, 110.22773631, 109.77957388,\n",
              "       110.0875052 , 109.66848018, 110.16487401, 109.54166802,\n",
              "       111.26759071, 110.3671363 , 110.54689985, 110.16313256,\n",
              "       110.36597299, 111.36701925, 109.45053638, 109.34594218,\n",
              "       109.92749767, 110.10531861, 110.77551411, 110.61555125,\n",
              "       110.93262465, 110.2740991 , 109.71357771, 110.18846007,\n",
              "       110.56340085, 110.60468176, 110.13080472, 109.94562804,\n",
              "       109.235913  , 110.19136618, 110.02764645, 110.8207649 ,\n",
              "       110.39501152, 111.3137956 , 111.11447661, 109.61739601,\n",
              "       110.06479619, 110.48350043, 111.18053859, 109.78102104,\n",
              "       109.75086341, 109.58497364, 109.51339293, 109.93046739,\n",
              "       110.40331335, 109.80698618, 109.05377839, 109.51904609,\n",
              "       110.94279651, 110.64690645, 109.5282235 , 110.31473423,\n",
              "       110.52847155, 110.50938467, 109.42252535, 110.17331286,\n",
              "       109.64531838, 110.21965847, 110.23490984, 111.22949347,\n",
              "       108.5524967 , 111.81010494, 110.64950211, 109.27624558,\n",
              "       110.76965856, 109.99109844, 108.49811247, 109.56301723,\n",
              "       108.97940905, 110.08531749, 109.98553241, 110.12430361,\n",
              "       111.14927506, 110.48886485, 109.64616499, 110.50779813,\n",
              "       110.51273455, 109.86580443, 110.74804294, 109.81715053,\n",
              "       110.68284383, 109.53601633, 109.33703776, 110.40103855,\n",
              "       109.74912814, 110.57252511, 110.12753955, 110.77067484,\n",
              "       111.21582171, 109.59480457, 110.4178041 , 111.93802943,\n",
              "       110.49532448, 109.51295579, 110.76765666, 110.616478  ,\n",
              "       110.04655951, 110.5896184 , 109.9386614 , 110.08903191,\n",
              "       110.38179527, 109.81311964, 109.53746001, 109.78658371,\n",
              "       110.84280633, 110.62781995, 109.78991484, 109.98206416,\n",
              "       109.76040412, 110.07339525, 111.17246089, 110.76043049,\n",
              "       110.61237893, 109.58542423, 109.38775153, 109.36296342,\n",
              "       110.86314535, 109.42215612, 111.02198013, 109.85447499,\n",
              "       109.32586976, 111.06025807, 109.39400969, 110.11774096,\n",
              "       109.9217921 , 109.93947993, 110.14999334, 110.29745604,\n",
              "       110.61619709, 110.45597049, 109.63308425, 110.49799341,\n",
              "       110.74816538, 111.43139736, 109.55838562, 110.00074489,\n",
              "       110.24216594, 110.39751682, 110.22274698, 110.46181146,\n",
              "       110.42759626, 109.59945827, 110.63396031, 110.17734128,\n",
              "       108.80143595, 110.77028713, 110.42070079, 110.59287247,\n",
              "       110.15069503, 110.50340955, 111.0684298 , 109.00200711,\n",
              "       109.79335203, 109.83633239, 110.69954877, 110.57343783,\n",
              "       110.60668572, 110.60693418, 110.16631202, 108.96964973,\n",
              "       110.16365944, 110.69296836, 110.12737503, 110.48814414,\n",
              "       110.64164172, 111.02523937, 110.27483678, 110.62875041,\n",
              "       110.07439915, 109.43303356, 110.29256265, 110.4722065 ,\n",
              "       109.74416628, 110.32953838, 111.09085686, 109.83037433,\n",
              "       111.55548972, 109.84508449, 111.04092002, 110.36733738,\n",
              "       111.4453397 , 109.82717516, 109.87591624, 111.05780315,\n",
              "       110.40651451, 109.87318237, 110.637164  , 111.40015651,\n",
              "       111.09137787, 109.08423519, 109.26094244, 109.94303229,\n",
              "       109.95757963, 109.51020519, 109.74023228, 111.09901611,\n",
              "       109.90390336, 110.51158838, 110.03153034, 110.98962744,\n",
              "       110.31766679, 109.99849096, 110.18090887, 110.52777855,\n",
              "       110.72554063, 109.37195664, 109.82747778, 110.41314806,\n",
              "       110.21844319, 110.38080744, 110.26908171, 110.46994387,\n",
              "       109.75533069, 110.02157448, 110.54328413, 110.60106025,\n",
              "       110.27637893, 111.03655179, 109.88651211, 110.66377122,\n",
              "       110.89544175, 109.98772046, 110.520328  , 110.25845049,\n",
              "       110.54688224, 110.08357018, 109.61872999, 110.01019227,\n",
              "       109.83579702, 110.23858993, 109.86560982, 109.18893792,\n",
              "       109.14052504, 110.75207395, 110.41171828, 110.86396357,\n",
              "       111.12605867, 110.51182595, 110.16703357, 109.0970513 ,\n",
              "       110.10030131, 111.14294423, 110.48151377, 110.98074891,\n",
              "       110.38670238, 110.92198583, 109.81756529, 110.43988273,\n",
              "       111.02845588, 110.85827328, 109.22728989, 109.311738  ,\n",
              "       110.7431789 , 110.04471148, 110.32767048, 110.402982  ,\n",
              "       111.04274741, 110.46172208, 110.49573693, 110.20270056,\n",
              "       109.52495322, 110.46565587, 111.05170939, 110.23656944,\n",
              "       110.65102381, 110.10535693, 109.81758495, 111.16342619,\n",
              "       110.95810141, 110.5356383 , 109.85700876, 109.69613931,\n",
              "       110.49256741, 111.1779511 , 109.57632403, 109.85053245,\n",
              "       109.34242243, 110.00878778, 109.92213675, 109.74188987,\n",
              "       110.58931679, 109.18495424, 110.02168506, 109.09029914,\n",
              "       110.08057585, 110.16908233, 109.69549491, 109.16410145,\n",
              "       110.20800187, 109.94248611, 110.598781  , 109.26749536,\n",
              "       109.5901898 , 110.81252629, 109.8881638 , 109.7367105 ,\n",
              "       109.32860884, 110.14256821, 110.41287175, 110.45611575,\n",
              "       110.81734919, 110.5982096 , 109.44915563, 109.6123048 ,\n",
              "       110.12554972, 110.15542427, 110.67553163, 110.51398698])"
            ]
          },
          "metadata": {
            "tags": []
          },
          "execution_count": 84
        }
      ]
    }
  ]
}